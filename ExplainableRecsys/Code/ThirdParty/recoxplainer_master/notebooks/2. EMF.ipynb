{
 "cells": [
  {
   "cell_type": "markdown",
   "metadata": {},
   "source": [
    "## Import"
   ]
  },
  {
   "cell_type": "code",
   "execution_count": 1,
   "metadata": {},
   "outputs": [],
   "source": [
    "import random\n",
    "import pandas as pd\n",
    "import umap\n",
    "import seaborn as sns\n",
    "import numpy as np\n",
    "import pathlib, os\n",
    "import matplotlib.pyplot as plt\n",
    "\n",
    "# working_dir = pathlib.Path(os.getcwd()).parent.parent\n",
    "# os.chdir(working_dir)\n",
    "\n",
    "from Code.ThirdParty.recoxplainer_master.recoxplainer.config import cfg\n",
    "from Code.ThirdParty.recoxplainer_master.recoxplainer.data_reader.data_reader import DataReader\n",
    "from Code.ThirdParty.recoxplainer_master.recoxplainer.models.emf_model import EMFModel\n",
    "from Code.ThirdParty.recoxplainer_master.recoxplainer.recommender import Recommender\n",
    "from Code.ThirdParty.recoxplainer_master.recoxplainer.evaluator import Splitter, Evaluator, ExplanationEvaluator\n",
    "from Code.ThirdParty.recoxplainer_master.recoxplainer.explain import EMFExplainer"
   ]
  },
  {
   "cell_type": "markdown",
   "metadata": {},
   "source": [
    "## Import data"
   ]
  },
  {
   "cell_type": "code",
   "execution_count": 2,
   "metadata": {},
   "outputs": [],
   "source": [
    "data = DataReader(**cfg.ml100k)\n",
    "data.make_consecutive_ids_in_dataset()\n",
    "sp = Splitter()\n",
    "train, test = sp.split_leave_n_out(data, frac=0.1)"
   ]
  },
  {
   "cell_type": "markdown",
   "metadata": {},
   "source": [
    "## Model training & recommending"
   ]
  },
  {
   "cell_type": "code",
   "execution_count": 3,
   "metadata": {},
   "outputs": [],
   "source": [
    "emf = EMFModel(**cfg.model.emf)"
   ]
  },
  {
   "cell_type": "code",
   "execution_count": 4,
   "metadata": {},
   "outputs": [
    {
     "data": {
      "text/plain": "  0%|          | 0/10 [00:00<?, ?it/s]",
      "application/vnd.jupyter.widget-view+json": {
       "version_major": 2,
       "version_minor": 0,
       "model_id": "307214b7b46c425cb8fd8051813be051"
      }
     },
     "metadata": {},
     "output_type": "display_data"
    },
    {
     "data": {
      "text/plain": "True"
     },
     "execution_count": 4,
     "metadata": {},
     "output_type": "execute_result"
    }
   ],
   "source": [
    "emf.fit(train)"
   ]
  },
  {
   "cell_type": "code",
   "execution_count": 5,
   "metadata": {
    "scrolled": true
   },
   "outputs": [
    {
     "data": {
      "text/plain": "Recommending for users:   0%|          | 0/943 [00:00<?, ?it/s]",
      "application/vnd.jupyter.widget-view+json": {
       "version_major": 2,
       "version_minor": 0,
       "model_id": "26c4bd8170a54e5297148fac38b24153"
      }
     },
     "metadata": {},
     "output_type": "display_data"
    }
   ],
   "source": [
    "rec = Recommender(train, emf)\n",
    "rec = rec.recommend_all()"
   ]
  },
  {
   "cell_type": "markdown",
   "metadata": {},
   "source": [
    "## Generating Explanations"
   ]
  },
  {
   "cell_type": "code",
   "execution_count": 6,
   "metadata": {},
   "outputs": [],
   "source": [
    "explanations = EMFExplainer(emf, rec, data)"
   ]
  },
  {
   "cell_type": "code",
   "execution_count": 7,
   "metadata": {},
   "outputs": [
    {
     "data": {
      "text/plain": "Computing explanations:   0%|          | 0/9430 [00:00<?, ?it/s]",
      "application/vnd.jupyter.widget-view+json": {
       "version_major": 2,
       "version_minor": 0,
       "model_id": "a1ae07295ca740d3990462b9cbe9b9f1"
      }
     },
     "metadata": {},
     "output_type": "display_data"
    }
   ],
   "source": [
    "res = explanations.explain_recommendations()"
   ]
  },
  {
   "cell_type": "code",
   "execution_count": 8,
   "metadata": {},
   "outputs": [],
   "source": [
    "ex = ExplanationEvaluator(train.num_user)"
   ]
  },
  {
   "cell_type": "markdown",
   "metadata": {},
   "source": [
    "Evaluationg an explanation:"
   ]
  },
  {
   "cell_type": "code",
   "execution_count": 9,
   "metadata": {},
   "outputs": [
    {
     "data": {
      "text/plain": "0.4584305408271477"
     },
     "execution_count": 9,
     "metadata": {},
     "output_type": "execute_result"
    }
   ],
   "source": [
    "ex.mean_explaianable_precision(res, emf.explainability_matrix)"
   ]
  },
  {
   "cell_type": "code",
   "execution_count": 10,
   "outputs": [
    {
     "data": {
      "text/plain": "      userId  itemId  rank        explanations      expl\n52     311.0    78.0   7.0  {3: 1, 4: 7, 5: 1}  0.750000\n897     99.0   957.0   8.0                  {}  0.000000\n473    636.0   492.0  10.0                  {}  0.000000\n69     928.0    94.0   5.0        {4: 2, 5: 1}  0.276596\n448    254.0   569.0   4.0        {3: 1, 5: 1}  0.242424\n549    593.0   569.0   6.0                  {}  0.000000\n145    180.0   189.0   3.0  {2: 1, 4: 3, 5: 4}  0.640000\n185     75.0   288.0   4.0        {4: 2, 5: 2}  0.391304\n915    875.0  1239.0   4.0                  {}  0.000000\n1235   811.0  1255.0   1.0                  {}  0.000000",
      "text/html": "<div>\n<style scoped>\n    .dataframe tbody tr th:only-of-type {\n        vertical-align: middle;\n    }\n\n    .dataframe tbody tr th {\n        vertical-align: top;\n    }\n\n    .dataframe thead th {\n        text-align: right;\n    }\n</style>\n<table border=\"1\" class=\"dataframe\">\n  <thead>\n    <tr style=\"text-align: right;\">\n      <th></th>\n      <th>userId</th>\n      <th>itemId</th>\n      <th>rank</th>\n      <th>explanations</th>\n      <th>expl</th>\n    </tr>\n  </thead>\n  <tbody>\n    <tr>\n      <th>52</th>\n      <td>311.0</td>\n      <td>78.0</td>\n      <td>7.0</td>\n      <td>{3: 1, 4: 7, 5: 1}</td>\n      <td>0.750000</td>\n    </tr>\n    <tr>\n      <th>897</th>\n      <td>99.0</td>\n      <td>957.0</td>\n      <td>8.0</td>\n      <td>{}</td>\n      <td>0.000000</td>\n    </tr>\n    <tr>\n      <th>473</th>\n      <td>636.0</td>\n      <td>492.0</td>\n      <td>10.0</td>\n      <td>{}</td>\n      <td>0.000000</td>\n    </tr>\n    <tr>\n      <th>69</th>\n      <td>928.0</td>\n      <td>94.0</td>\n      <td>5.0</td>\n      <td>{4: 2, 5: 1}</td>\n      <td>0.276596</td>\n    </tr>\n    <tr>\n      <th>448</th>\n      <td>254.0</td>\n      <td>569.0</td>\n      <td>4.0</td>\n      <td>{3: 1, 5: 1}</td>\n      <td>0.242424</td>\n    </tr>\n    <tr>\n      <th>549</th>\n      <td>593.0</td>\n      <td>569.0</td>\n      <td>6.0</td>\n      <td>{}</td>\n      <td>0.000000</td>\n    </tr>\n    <tr>\n      <th>145</th>\n      <td>180.0</td>\n      <td>189.0</td>\n      <td>3.0</td>\n      <td>{2: 1, 4: 3, 5: 4}</td>\n      <td>0.640000</td>\n    </tr>\n    <tr>\n      <th>185</th>\n      <td>75.0</td>\n      <td>288.0</td>\n      <td>4.0</td>\n      <td>{4: 2, 5: 2}</td>\n      <td>0.391304</td>\n    </tr>\n    <tr>\n      <th>915</th>\n      <td>875.0</td>\n      <td>1239.0</td>\n      <td>4.0</td>\n      <td>{}</td>\n      <td>0.000000</td>\n    </tr>\n    <tr>\n      <th>1235</th>\n      <td>811.0</td>\n      <td>1255.0</td>\n      <td>1.0</td>\n      <td>{}</td>\n      <td>0.000000</td>\n    </tr>\n  </tbody>\n</table>\n</div>"
     },
     "execution_count": 10,
     "metadata": {},
     "output_type": "execute_result"
    }
   ],
   "source": [
    "res.sample(10)"
   ],
   "metadata": {
    "collapsed": false,
    "pycharm": {
     "name": "#%%\n"
    }
   }
  },
  {
   "cell_type": "code",
   "execution_count": 10,
   "metadata": {},
   "outputs": [],
   "source": [
    "def plot_model(model, dt, user_X):\n",
    "    \n",
    "    dim_red_model = umap.UMAP().fit_transform(model.item_embedding())\n",
    "    dim_red_model_usr = umap.UMAP().fit_transform(model.user_embedding())\n",
    "\n",
    "    rated_items = dt.dataset[dt.dataset.userId == user_X].itemId\n",
    "\n",
    "    item_emb_for_user_X = pd.DataFrame.from_dict({\n",
    "        'x': dim_red_model[:,0],\n",
    "        'y': dim_red_model[:,1],\n",
    "        'expl': model.explainability_matrix[user_X, :]})\n",
    "\n",
    "    item_emb_for_user_X = item_emb_for_user_X.sort_values(by=['expl'])\n",
    "\n",
    "    sns.scatterplot(data=item_emb_for_user_X, x=\"x\", y=\"y\", hue=\"expl\")\n",
    "    \n",
    "    plt.scatter(dim_red_model[rated_items,0], \n",
    "            dim_red_model[rated_items,1], \n",
    "            marker='o', c='#c3e0f4')\n",
    "\n",
    "    plt.scatter(dim_red_model_usr[user_X,0], \n",
    "            dim_red_model_usr[user_X,1], \n",
    "            marker='X', s=100, c='#419ede')"
   ]
  },
  {
   "cell_type": "code",
   "execution_count": 11,
   "metadata": {},
   "outputs": [],
   "source": [
    "rand_usr = random.choice(data.dataset.userId.unique())"
   ]
  },
  {
   "cell_type": "code",
   "execution_count": 13,
   "metadata": {
    "scrolled": true
   },
   "outputs": [
    {
     "data": {
      "image/png": "[encoded data removed]",
      "text/plain": [
       "<Figure size 432x288 with 1 Axes>"
      ]
     },
     "metadata": {
      "needs_background": "light"
     },
     "output_type": "display_data"
    }
   ],
   "source": [
    "plot_model(emf, train, rand_usr)"
   ]
  },
  {
   "cell_type": "code",
   "execution_count": null,
   "metadata": {},
   "outputs": [],
   "source": []
  }
 ],
 "metadata": {
  "kernelspec": {
   "display_name": "Python 3",
   "language": "python",
   "name": "python3"
  },
  "language_info": {
   "codemirror_mode": {
    "name": "ipython",
    "version": 3
   },
   "file_extension": ".py",
   "mimetype": "text/x-python",
   "name": "python",
   "nbconvert_exporter": "python",
   "pygments_lexer": "ipython3",
   "version": "3.6.12"
  }
 },
 "nbformat": 4,
 "nbformat_minor": 4
}