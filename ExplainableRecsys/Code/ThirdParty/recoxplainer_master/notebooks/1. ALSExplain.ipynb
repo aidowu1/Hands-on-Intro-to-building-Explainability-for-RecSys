{
 "cells": [
  {
   "cell_type": "markdown",
   "metadata": {},
   "source": [
    "### Imports"
   ]
  },
  {
   "cell_type": "code",
   "execution_count": 1,
   "metadata": {},
   "outputs": [],
   "source": [
    "import plotly.express as px\n",
    "from jupyter_dash import JupyterDash\n",
    "from dash import Dash\n",
    "import dash_core_components as dcc\n",
    "import dash_html_components as html\n",
    "from dash.dependencies import Input, Output\n",
    "import pandas as pd\n",
    "import random\n",
    "import sys\n",
    "\n",
    "from Code.ThirdParty.recoxplainer_master.recoxplainer.config import cfg\n",
    "from Code.ThirdParty.recoxplainer_master.recoxplainer.data_reader import DataReader\n",
    "from Code.ThirdParty.recoxplainer_master.recoxplainer.models import ALS\n",
    "from Code.ThirdParty.recoxplainer_master.recoxplainer.recommender import Recommender\n",
    "from Code.ThirdParty.recoxplainer_master.recoxplainer.evaluator import Splitter, Evaluator\n",
    "from Code.ThirdParty.recoxplainer_master.recoxplainer.explain import ALSExplainer"
   ]
  },
  {
   "cell_type": "markdown",
   "metadata": {},
   "source": [
    "## Prepare data"
   ]
  },
  {
   "cell_type": "markdown",
   "metadata": {},
   "source": [
    "Import the data:"
   ]
  },
  {
   "cell_type": "code",
   "execution_count": 2,
   "metadata": {},
   "outputs": [],
   "source": [
    "data = DataReader(**cfg.ml100k)"
   ]
  },
  {
   "cell_type": "code",
   "execution_count": 3,
   "metadata": {
    "scrolled": false
   },
   "outputs": [
    {
     "data": {
      "text/plain": "   userId  itemId  rating  timestamp\n0     196     242       3  881250949\n1     186     302       3  891717742\n2      22     377       1  878887116\n3     244      51       2  880606923\n4     166     346       1  886397596",
      "text/html": "<div>\n<style scoped>\n    .dataframe tbody tr th:only-of-type {\n        vertical-align: middle;\n    }\n\n    .dataframe tbody tr th {\n        vertical-align: top;\n    }\n\n    .dataframe thead th {\n        text-align: right;\n    }\n</style>\n<table border=\"1\" class=\"dataframe\">\n  <thead>\n    <tr style=\"text-align: right;\">\n      <th></th>\n      <th>userId</th>\n      <th>itemId</th>\n      <th>rating</th>\n      <th>timestamp</th>\n    </tr>\n  </thead>\n  <tbody>\n    <tr>\n      <th>0</th>\n      <td>196</td>\n      <td>242</td>\n      <td>3</td>\n      <td>881250949</td>\n    </tr>\n    <tr>\n      <th>1</th>\n      <td>186</td>\n      <td>302</td>\n      <td>3</td>\n      <td>891717742</td>\n    </tr>\n    <tr>\n      <th>2</th>\n      <td>22</td>\n      <td>377</td>\n      <td>1</td>\n      <td>878887116</td>\n    </tr>\n    <tr>\n      <th>3</th>\n      <td>244</td>\n      <td>51</td>\n      <td>2</td>\n      <td>880606923</td>\n    </tr>\n    <tr>\n      <th>4</th>\n      <td>166</td>\n      <td>346</td>\n      <td>1</td>\n      <td>886397596</td>\n    </tr>\n  </tbody>\n</table>\n</div>"
     },
     "execution_count": 3,
     "metadata": {},
     "output_type": "execute_result"
    }
   ],
   "source": [
    "data.dataset.head()"
   ]
  },
  {
   "cell_type": "markdown",
   "metadata": {},
   "source": [
    "Re-arrange users' and items' Ids:"
   ]
  },
  {
   "cell_type": "code",
   "execution_count": 4,
   "metadata": {},
   "outputs": [],
   "source": [
    "data.make_consecutive_ids_in_dataset()"
   ]
  },
  {
   "cell_type": "code",
   "execution_count": 5,
   "metadata": {},
   "outputs": [
    {
     "data": {
      "text/plain": "   userId  itemId  rating  timestamp\n0       0       0       3  881250949\n1       1       1       3  891717742\n2       2       2       1  878887116\n3       3       3       2  880606923\n4       4       4       1  886397596",
      "text/html": "<div>\n<style scoped>\n    .dataframe tbody tr th:only-of-type {\n        vertical-align: middle;\n    }\n\n    .dataframe tbody tr th {\n        vertical-align: top;\n    }\n\n    .dataframe thead th {\n        text-align: right;\n    }\n</style>\n<table border=\"1\" class=\"dataframe\">\n  <thead>\n    <tr style=\"text-align: right;\">\n      <th></th>\n      <th>userId</th>\n      <th>itemId</th>\n      <th>rating</th>\n      <th>timestamp</th>\n    </tr>\n  </thead>\n  <tbody>\n    <tr>\n      <th>0</th>\n      <td>0</td>\n      <td>0</td>\n      <td>3</td>\n      <td>881250949</td>\n    </tr>\n    <tr>\n      <th>1</th>\n      <td>1</td>\n      <td>1</td>\n      <td>3</td>\n      <td>891717742</td>\n    </tr>\n    <tr>\n      <th>2</th>\n      <td>2</td>\n      <td>2</td>\n      <td>1</td>\n      <td>878887116</td>\n    </tr>\n    <tr>\n      <th>3</th>\n      <td>3</td>\n      <td>3</td>\n      <td>2</td>\n      <td>880606923</td>\n    </tr>\n    <tr>\n      <th>4</th>\n      <td>4</td>\n      <td>4</td>\n      <td>1</td>\n      <td>886397596</td>\n    </tr>\n  </tbody>\n</table>\n</div>"
     },
     "execution_count": 5,
     "metadata": {},
     "output_type": "execute_result"
    }
   ],
   "source": [
    "data.dataset.head()"
   ]
  },
  {
   "cell_type": "markdown",
   "metadata": {},
   "source": [
    "Because ALS works on implicit feedback we need to binarize it:"
   ]
  },
  {
   "cell_type": "code",
   "execution_count": 6,
   "metadata": {},
   "outputs": [
    {
     "name": "stderr",
     "output_type": "stream",
     "text": [
      "C:\\Users\\ADE\\miniconda3\\envs\\recoxplainer\\lib\\site-packages\\pandas\\core\\generic.py:5170: SettingWithCopyWarning: \n",
      "A value is trying to be set on a copy of a slice from a DataFrame.\n",
      "Try using .loc[row_indexer,col_indexer] = value instead\n",
      "\n",
      "See the caveats in the documentation: https://pandas.pydata.org/pandas-docs/stable/user_guide/indexing.html#returning-a-view-versus-a-copy\n",
      "  self[name] = value\n",
      "C:\\Users\\ADE\\miniconda3\\envs\\recoxplainer\\lib\\site-packages\\pandas\\core\\generic.py:5170: SettingWithCopyWarning: \n",
      "A value is trying to be set on a copy of a slice from a DataFrame.\n",
      "Try using .loc[row_indexer,col_indexer] = value instead\n",
      "\n",
      "See the caveats in the documentation: https://pandas.pydata.org/pandas-docs/stable/user_guide/indexing.html#returning-a-view-versus-a-copy\n",
      "  self[name] = value\n"
     ]
    }
   ],
   "source": [
    "data.binarize(binary_threshold=1)"
   ]
  },
  {
   "cell_type": "code",
   "execution_count": 7,
   "metadata": {},
   "outputs": [
    {
     "data": {
      "text/plain": "   userId  itemId  rating  timestamp\n0       0       0       3  881250949\n1       1       1       3  891717742\n2       2       2       1  878887116\n3       3       3       2  880606923\n4       4       4       1  886397596",
      "text/html": "<div>\n<style scoped>\n    .dataframe tbody tr th:only-of-type {\n        vertical-align: middle;\n    }\n\n    .dataframe tbody tr th {\n        vertical-align: top;\n    }\n\n    .dataframe thead th {\n        text-align: right;\n    }\n</style>\n<table border=\"1\" class=\"dataframe\">\n  <thead>\n    <tr style=\"text-align: right;\">\n      <th></th>\n      <th>userId</th>\n      <th>itemId</th>\n      <th>rating</th>\n      <th>timestamp</th>\n    </tr>\n  </thead>\n  <tbody>\n    <tr>\n      <th>0</th>\n      <td>0</td>\n      <td>0</td>\n      <td>3</td>\n      <td>881250949</td>\n    </tr>\n    <tr>\n      <th>1</th>\n      <td>1</td>\n      <td>1</td>\n      <td>3</td>\n      <td>891717742</td>\n    </tr>\n    <tr>\n      <th>2</th>\n      <td>2</td>\n      <td>2</td>\n      <td>1</td>\n      <td>878887116</td>\n    </tr>\n    <tr>\n      <th>3</th>\n      <td>3</td>\n      <td>3</td>\n      <td>2</td>\n      <td>880606923</td>\n    </tr>\n    <tr>\n      <th>4</th>\n      <td>4</td>\n      <td>4</td>\n      <td>1</td>\n      <td>886397596</td>\n    </tr>\n  </tbody>\n</table>\n</div>"
     },
     "execution_count": 7,
     "metadata": {},
     "output_type": "execute_result"
    }
   ],
   "source": [
    "data.dataset.head()"
   ]
  },
  {
   "cell_type": "markdown",
   "metadata": {},
   "source": [
    "Prepare train and test sets:"
   ]
  },
  {
   "cell_type": "code",
   "execution_count": 8,
   "metadata": {},
   "outputs": [],
   "source": [
    "sp = Splitter()\n",
    "train, test = sp.split_leave_n_out(data, frac=0.1)"
   ]
  },
  {
   "cell_type": "markdown",
   "metadata": {},
   "source": [
    "## Model"
   ]
  },
  {
   "cell_type": "code",
   "execution_count": 9,
   "metadata": {},
   "outputs": [
    {
     "name": "stderr",
     "output_type": "stream",
     "text": [
      "WARNING:root:OpenBLAS detected. Its highly recommend to set the environment variable 'export OPENBLAS_NUM_THREADS=1' to disable its internal multithreading\n"
     ]
    }
   ],
   "source": [
    "als = ALS(**cfg.model.als)"
   ]
  },
  {
   "cell_type": "code",
   "execution_count": 10,
   "metadata": {},
   "outputs": [
    {
     "name": "stderr",
     "output_type": "stream",
     "text": [
      "C:\\Users\\ADE\\miniconda3\\envs\\recoxplainer\\lib\\site-packages\\scipy\\sparse\\_index.py:125: SparseEfficiencyWarning: Changing the sparsity structure of a csr_matrix is expensive. lil_matrix is more efficient.\n",
      "  self._set_arrayXarray(i, j, x)\n"
     ]
    },
    {
     "data": {
      "text/plain": "  0%|          | 0/10 [00:00<?, ?it/s]",
      "application/vnd.jupyter.widget-view+json": {
       "version_major": 2,
       "version_minor": 0,
       "model_id": "21aae1610b1a4459b9dcafae64109ccb"
      }
     },
     "metadata": {},
     "output_type": "display_data"
    },
    {
     "data": {
      "text/plain": "True"
     },
     "execution_count": 10,
     "metadata": {},
     "output_type": "execute_result"
    }
   ],
   "source": [
    "als.fit(train)"
   ]
  },
  {
   "cell_type": "markdown",
   "metadata": {},
   "source": [
    "## Recommendations"
   ]
  },
  {
   "cell_type": "code",
   "execution_count": 11,
   "metadata": {},
   "outputs": [],
   "source": [
    "recommender = Recommender(train, als)"
   ]
  },
  {
   "cell_type": "code",
   "execution_count": 12,
   "metadata": {},
   "outputs": [
    {
     "data": {
      "text/plain": "Recommending for users:   0%|          | 0/943 [00:00<?, ?it/s]",
      "application/vnd.jupyter.widget-view+json": {
       "version_major": 2,
       "version_minor": 0,
       "model_id": "6f49a52af4c745169f96aeaf4500266c"
      }
     },
     "metadata": {},
     "output_type": "display_data"
    }
   ],
   "source": [
    "recommendations = recommender.recommend_all()"
   ]
  },
  {
   "cell_type": "markdown",
   "metadata": {},
   "source": [
    "## Evaluations"
   ]
  },
  {
   "cell_type": "code",
   "execution_count": 13,
   "metadata": {},
   "outputs": [],
   "source": [
    "eva = Evaluator(test)"
   ]
  },
  {
   "cell_type": "code",
   "execution_count": 14,
   "metadata": {},
   "outputs": [
    {
     "data": {
      "text/plain": "0.22660478955230687"
     },
     "execution_count": 14,
     "metadata": {},
     "output_type": "execute_result"
    }
   ],
   "source": [
    "eva.cal_hit_ratio(recommendations)"
   ]
  },
  {
   "cell_type": "code",
   "execution_count": 15,
   "metadata": {},
   "outputs": [
    {
     "data": {
      "text/plain": "0.2427643274570978"
     },
     "execution_count": 15,
     "metadata": {},
     "output_type": "execute_result"
    }
   ],
   "source": [
    "eva.cal_ndcg(recommendations)"
   ]
  },
  {
   "cell_type": "markdown",
   "metadata": {},
   "source": [
    "## Explain"
   ]
  },
  {
   "cell_type": "code",
   "execution_count": 16,
   "metadata": {},
   "outputs": [],
   "source": [
    "expl = ALSExplainer(als, recommendations, train)"
   ]
  },
  {
   "cell_type": "code",
   "execution_count": 17,
   "metadata": {},
   "outputs": [
    {
     "data": {
      "text/plain": "Computing explanations:   0%|          | 0/9430 [00:00<?, ?it/s]",
      "application/vnd.jupyter.widget-view+json": {
       "version_major": 2,
       "version_minor": 0,
       "model_id": "b76607f34e9040be8cf4b361322e4571"
      }
     },
     "metadata": {},
     "output_type": "display_data"
    }
   ],
   "source": [
    "explanations = expl.explain_recommendations()"
   ]
  },
  {
   "cell_type": "markdown",
   "metadata": {},
   "source": [
    "### Example"
   ]
  },
  {
   "cell_type": "code",
   "execution_count": 26,
   "metadata": {},
   "outputs": [],
   "source": [
    "sample_users = random.sample(set(data.dataset.userId),10)\n",
    "sample_expl = explanations[explanations.userId.isin(sample_users)]"
   ]
  },
  {
   "cell_type": "code",
   "execution_count": 27,
   "metadata": {},
   "outputs": [],
   "source": [
    "content = pd.read_csv('datasets/ml-100k/u.item', sep='|', encoding = \"ISO-8859-1\", skiprows=0, engine='python', header=None)\n",
    "content = content.set_index(0)[[1]]\n",
    "content.columns = ['movie']"
   ]
  },
  {
   "cell_type": "code",
   "execution_count": 29,
   "metadata": {
    "scrolled": false
   },
   "outputs": [
    {
     "data": {
      "text/plain": "<IPython.lib.display.IFrame at 0x22ef119ff88>",
      "text/html": "\n        <iframe\n            width=\"100%\"\n            height=\"650\"\n            src=\"http://127.0.0.1:8060/\"\n            frameborder=\"0\"\n            allowfullscreen\n        ></iframe>\n        "
     },
     "metadata": {},
     "output_type": "display_data"
    }
   ],
   "source": [
    "app = JupyterDash(__name__)\n",
    "#app = Dash(__name__)\n",
    "app.layout = html.Div([\n",
    "    html.P(\"userId:\"),\n",
    "    dcc.Dropdown(\n",
    "        id='userId',\n",
    "        value=sample_users[0],\n",
    "        options=[{'value': x, 'label': x} \n",
    "                 for x in sample_users],\n",
    "        clearable=False\n",
    "    ),\n",
    "    html.P(\"Rank:\"),\n",
    "      dcc.Slider(\n",
    "        id='rank',\n",
    "        min=1,\n",
    "        max=10,\n",
    "        value=1,\n",
    "        step=1,\n",
    "        marks={i:'{}'.format(i) for i in range(1,11)}\n",
    "    ),\n",
    "    dcc.Graph(id=\"pie-chart\"),\n",
    "])\n",
    "\n",
    "@app.callback(\n",
    "    Output(\"pie-chart\", \"figure\"), \n",
    "    [Input(\"userId\", \"value\"), \n",
    "     Input(\"rank\", \"value\")])\n",
    "def generate_chart(userId, rank):\n",
    "    expl = sample_expl[(sample_expl['userId'] == userId) & (sample_expl['rank'] == rank)]\n",
    "    df = pd.DataFrame.from_dict(expl.explanations.iloc[0])\n",
    "    df['item'] = list(content.loc[train.get_original_item_id(df.item)].movie)\n",
    "    fig = px.pie(df, values='contribution', names='item', title=content.loc[int(expl.itemId)].movie)\n",
    "    return fig\n",
    "\n",
    "app.css.config.serve_locally = True\n",
    "app.scripts.config.serve_locally = True\n",
    "\n",
    "# Run app and display result inline in the notebook\n",
    "app.run_server(mode='inline', debug=True,port=8060)\n",
    "#app.run_server(mode='external',debug=True,port=8060)"
   ]
  },
  {
   "cell_type": "code",
   "execution_count": null,
   "metadata": {
    "pycharm": {
     "is_executing": true
    }
   },
   "outputs": [],
   "source": [
    "#!pip install -q dash==1.19.0"
   ]
  },
  {
   "cell_type": "code",
   "execution_count": 23,
   "metadata": {},
   "outputs": [
    {
     "name": "stdout",
     "output_type": "stream",
     "text": [
      "Package                      Version\n",
      "---------------------------- ---------\n",
      "absl-py                      1.4.0\n",
      "ansi2html                    1.6.0\n",
      "appnope                      0.1.2\n",
      "apyori                       1.1.2\n",
      "argon2-cffi                  20.1.0\n",
      "astunparse                   1.6.3\n",
      "async-generator              1.10\n",
      "attrs                        20.3.0\n",
      "backcall                     0.2.0\n",
      "bleach                       3.2.3\n",
      "Brotli                       1.0.9\n",
      "cachetools                   5.3.0\n",
      "certifi                      2020.12.5\n",
      "cffi                         1.14.4\n",
      "chardet                      4.0.0\n",
      "click                        7.1.2\n",
      "colorama                     0.4.6\n",
      "cycler                       0.10.0\n",
      "Cython                       0.29.34\n",
      "dash                         1.19.0\n",
      "dash-bootstrap-components    1.4.1\n",
      "dash-core-components         1.15.0\n",
      "dash-html-components         1.1.2\n",
      "dash-renderer                1.9.0\n",
      "dash-table                   4.11.2\n",
      "decorator                    4.4.2\n",
      "deepctr-torch                0.2.9\n",
      "defusedxml                   0.6.0\n",
      "entrypoints                  0.3\n",
      "Flask                        1.1.2\n",
      "Flask-Compress               1.8.0\n",
      "flatbuffers                  23.3.3\n",
      "future                       0.18.2\n",
      "gast                         0.4.0\n",
      "google-auth                  2.17.2\n",
      "google-auth-oauthlib         0.4.6\n",
      "google-pasta                 0.2.0\n",
      "grpcio                       1.53.0\n",
      "h5py                         3.8.0\n",
      "hdbscan                      0.8.29\n",
      "idna                         2.10\n",
      "imageio                      2.27.0\n",
      "implicit                     0.4.4\n",
      "importlib-metadata           6.3.0\n",
      "ipykernel                    5.4.3\n",
      "ipython                      7.16.1\n",
      "ipython-genutils             0.2.0\n",
      "ipywidgets                   7.6.3\n",
      "itsdangerous                 1.1.0\n",
      "jedi                         0.18.0\n",
      "Jinja2                       2.11.3\n",
      "joblib                       1.0.0\n",
      "jsonschema                   3.2.0\n",
      "jupyter                      1.0.0\n",
      "jupyter-client               6.1.11\n",
      "jupyter-console              6.2.0\n",
      "jupyter-core                 4.7.1\n",
      "jupyter-dash                 0.4.0\n",
      "jupyterlab-pygments          0.1.2\n",
      "jupyterlab-widgets           1.0.0\n",
      "keras                        2.11.0\n",
      "kiwisolver                   1.3.1\n",
      "libclang                     16.0.0\n",
      "lime                         0.2.0.1\n",
      "llvmlite                     0.35.0\n",
      "Markdown                     3.4.3\n",
      "MarkupSafe                   1.1.1\n",
      "matplotlib                   3.3.4\n",
      "mistune                      0.8.4\n",
      "mlxtend                      0.18.0\n",
      "myfm                         0.3.5\n",
      "nbclient                     0.5.1\n",
      "nbconvert                    6.0.7\n",
      "nbformat                     5.1.2\n",
      "nest-asyncio                 1.5.1\n",
      "networkx                     2.6.3\n",
      "notebook                     6.2.0\n",
      "numba                        0.52.0\n",
      "numpy                        1.21.6\n",
      "oauthlib                     3.2.2\n",
      "opt-einsum                   3.3.0\n",
      "packaging                    20.9\n",
      "pandas                       1.1.5\n",
      "pandocfilters                1.4.3\n",
      "parso                        0.8.1\n",
      "pexpect                      4.8.0\n",
      "pickleshare                  0.7.5\n",
      "Pillow                       9.5.0\n",
      "pip                          22.3.1\n",
      "plotly                       5.14.1\n",
      "prometheus-client            0.9.0\n",
      "prompt-toolkit               3.0.14\n",
      "protobuf                     3.19.6\n",
      "ptyprocess                   0.7.0\n",
      "pyasn1                       0.4.8\n",
      "pyasn1-modules               0.2.8\n",
      "pycparser                    2.20\n",
      "Pygments                     2.7.4\n",
      "pynndescent                  0.5.1\n",
      "pyparsing                    2.4.7\n",
      "pyrsistent                   0.17.3\n",
      "python-box                   5.2.0\n",
      "python-dateutil              2.8.1\n",
      "pytz                         2020.5\n",
      "PyWavelets                   1.3.0\n",
      "pywin32                      305\n",
      "pywinpty                     2.0.10\n",
      "PyYAML                       5.4.1\n",
      "pyzmq                        22.0.2\n",
      "qtconsole                    5.0.2\n",
      "QtPy                         1.9.0\n",
      "requests                     2.25.1\n",
      "requests-oauthlib            1.3.1\n",
      "retrying                     1.3.3\n",
      "rsa                          4.9\n",
      "scikit-image                 0.19.3\n",
      "scikit-learn                 0.24.1\n",
      "scipy                        1.5.4\n",
      "seaborn                      0.11.1\n",
      "Send2Trash                   1.5.0\n",
      "setuptools                   65.6.3\n",
      "six                          1.15.0\n",
      "sklearn                      0.0\n",
      "tenacity                     8.2.2\n",
      "tensorboard                  2.11.2\n",
      "tensorboard-data-server      0.6.1\n",
      "tensorboard-plugin-wit       1.8.1\n",
      "tensorflow                   2.11.0\n",
      "tensorflow-estimator         2.11.0\n",
      "tensorflow-intel             2.11.0\n",
      "tensorflow-io-gcs-filesystem 0.31.0\n",
      "termcolor                    2.2.0\n",
      "terminado                    0.9.2\n",
      "testpath                     0.4.4\n",
      "threadpoolctl                2.1.0\n",
      "tifffile                     2021.11.2\n",
      "torch                        1.13.1\n",
      "torchmetrics                 0.11.4\n",
      "tornado                      6.1\n",
      "tqdm                         4.56.0\n",
      "traitlets                    4.3.3\n",
      "typing_extensions            4.5.0\n",
      "umap-learn                   0.5.0\n",
      "urllib3                      1.26.3\n",
      "wcwidth                      0.2.5\n",
      "webencodings                 0.5.1\n",
      "Werkzeug                     1.0.1\n",
      "wheel                        0.38.4\n",
      "widgetsnbextension           3.5.1\n",
      "wincertstore                 0.2\n",
      "wrapt                        1.15.0\n",
      "zipp                         3.4.0\n"
     ]
    }
   ],
   "source": [
    "!pip list"
   ]
  },
  {
   "cell_type": "code",
   "execution_count": null,
   "metadata": {
    "pycharm": {
     "is_executing": true,
     "name": "#%%\n"
    }
   },
   "outputs": [],
   "source": []
  }
 ],
 "metadata": {
  "kernelspec": {
   "display_name": "Python 3",
   "language": "python",
   "name": "python3"
  },
  "language_info": {
   "codemirror_mode": {
    "name": "ipython",
    "version": 3
   },
   "file_extension": ".py",
   "mimetype": "text/x-python",
   "name": "python",
   "nbconvert_exporter": "python",
   "pygments_lexer": "ipython3",
   "version": "3.7.16"
  }
 },
 "nbformat": 4,
 "nbformat_minor": 4
}