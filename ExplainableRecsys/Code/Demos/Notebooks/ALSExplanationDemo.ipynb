{
 "cells": [
  {
   "cell_type": "markdown",
   "metadata": {
    "pycharm": {
     "name": "#%% md\n"
    }
   },
   "source": [
    "# Demo of Alternating Least Square (ALS) RecSys Explanations"
   ]
  },
  {
   "cell_type": "markdown",
   "metadata": {
    "pycharm": {
     "name": "#%% md\n"
    }
   },
   "source": [
    "#### Imports"
   ]
  },
  {
   "cell_type": "code",
   "execution_count": 1,
   "metadata": {
    "jupyter": {
     "outputs_hidden": false
    },
    "pycharm": {
     "is_executing": true,
     "name": "#%%\n"
    }
   },
   "outputs": [
    {
     "name": "stdout",
     "output_type": "stream",
     "text": [
      "Current working directory is: C:\\Development\\Python\\MyGitHub\\Hands-on-Intro-to-building-Explainability-for-RecSys-(Pydata-2023)\\ExplainableRecsys\\Code\n",
      "\n"
     ]
    }
   ],
   "source": [
    "import pathlib\n",
    "import os, sys\n",
    "import random\n",
    "import pandas as pd\n",
    "from typing import List, Tuple, Dict, Any\n",
    "\n",
    "import plotly.express as px\n",
    "from jupyter_dash import JupyterDash\n",
    "from dash import Dash\n",
    "import dash_core_components as dcc\n",
    "import dash_html_components as html\n",
    "from dash.dependencies import Input, Output\n",
    "\n",
    "root_working_dir = str(pathlib.Path(os.getcwd()).parent.parent.parent)\n",
    "working_dir = pathlib.Path(os.getcwd()).parent.parent\n",
    "os.chdir(working_dir)\n",
    "print(f\"Current working directory is: {working_dir}\\n\")\n",
    "\n",
    "#sys.path.append(\"C:/Development/python/MyGitHub/Hands-on-Intro-to-building-Explainability-for-RecSys-(Pydata-2023)/ExplainableRecsys\")\n",
    "sys.path.append(root_working_dir)\n",
    "# sys.path.append(\"..ExplainableRecsys/Code/\")\n",
    "#print(f\"{sys.path}\")\n",
    "\n",
    "from Code.Demos.Models.Src.ALSExplanation import ALSExplainerDemo\n",
    "from Code.Demos.Models.Src.ModelBasedExplanation import ModelBasedExplainerDemo\n",
    "from Code.Utils.Src.Enums import ExplanationType\n",
    "from Code.Utils.Src.Utils import Helpers\n",
    "import Code.Model.Src.Constants as c\n",
    "import Code.DataAccessLayer.Src.Constants as c2\n",
    "\n"
   ]
  },
  {
   "cell_type": "markdown",
   "metadata": {
    "pycharm": {
     "name": "#%% md\n"
    }
   },
   "source": [
    "#### Run demo based on cached recommendations and explanation models"
   ]
  },
  {
   "cell_type": "code",
   "execution_count": 2,
   "metadata": {
    "jupyter": {
     "outputs_hidden": false
    },
    "pycharm": {
     "name": "#%%\n"
    }
   },
   "outputs": [
    {
     "name": "stdout",
     "output_type": "stream",
     "text": [
      "Sample of generated recommendations:\n",
      "+--------+--------+--------+\n",
      "|  userId|  itemId|   rank |\n",
      "+--------+--------+--------+\n",
      "|    0.0 |  366.0 |    1.0 |\n",
      "|    0.0 |   33.0 |    2.0 |\n",
      "|    0.0 |  148.0 |    3.0 |\n",
      "|    0.0 |  247.0 |    4.0 |\n",
      "|    0.0 |  133.0 |    5.0 |\n",
      "|    0.0 |   68.0 |    6.0 |\n",
      "|    0.0 |  491.0 |    7.0 |\n",
      "|    0.0 |  367.0 |    8.0 |\n",
      "|    0.0 |  226.0 |    9.0 |\n",
      "|    0.0 |  404.0 |   10.0 |\n",
      "+--------+--------+--------+\n",
      "==================================================\n",
      "\n",
      "\n",
      "\n",
      "Recommendation metrics:\n",
      "{'hit_ratio': 0.22144785413141901, 'ndcg': 0.24363069095732878}\n",
      "==================================================\n",
      "\n",
      "\n",
      "\n",
      "Sample of generated explanations:\n",
      "+--------------+--------------+--------------+----------------------------------------------------------------------------------------------------------------------------------------------+\n",
      "|     userId   |     itemId   |      rank    |                                                                  explanations                                                                |\n",
      "+--------------+--------------+--------------+----------------------------------------------------------------------------------------------------------------------------------------------+\n",
      "|          0.0 |        366.0 |          1.0 | [(438, 0.36), (550, 0.203), (1006, 0.197), (632, 0.192), (528, 0.181), (947, 0.159), (321, 0.136), (363, 0.131), (179, 0.127), (512, 0.092)] |\n",
      "|          0.0 |         33.0 |          2.0 |  [(632, 0.352), (179, 0.276), (528, 0.272), (377, 0.228), (521, 0.198), (487, 0.18), (656, 0.162), (221, 0.105), (512, 0.094), (550, 0.089)] |\n",
      "|          0.0 |        148.0 |          3.0 |  [(522, 0.52), (665, 0.298), (512, 0.25), (377, 0.209), (632, 0.201), (365, 0.124), (1006, 0.121), (672, 0.115), (751, 0.113), (321, 0.094)] |\n",
      "|          0.0 |        247.0 |          4.0 |   [(179, 0.251), (329, 0.241), (550, 0.232), (363, 0.22), (665, 0.199), (431, 0.193), (221, 0.162), (321, 0.124), (302, 0.122), (92, 0.122)] |\n",
      "|          0.0 |        133.0 |          5.0 |   [(512, 0.542), (92, 0.337), (302, 0.237), (522, 0.176), (363, 0.11), (550, 0.083), (438, 0.075), (432, 0.059), (221, 0.055), (665, 0.051)] |\n",
      "|          0.0 |         68.0 |          6.0 |   [(521, 0.481), (522, 0.361), (179, 0.294), (365, 0.281), (86, 0.271), (550, 0.239), (83, 0.229), (389, 0.174), (528, 0.147), (289, 0.108)] |\n",
      "|          0.0 |        491.0 |          7.0 |       [(522, 0.53), (380, 0.468), (365, 0.419), (363, 0.313), (466, 0.28), (751, 0.221), (289, 0.2), (665, 0.19), (329, 0.187), (92, 0.153)] |\n",
      "|          0.0 |        367.0 |          8.0 | [(179, 0.281), (329, 0.214), (431, 0.211), (363, 0.199), (947, 0.188), (86, 0.162), (321, 0.161), (521, 0.151), (665, 0.149), (1045, 0.149)] |\n",
      "|          0.0 |        226.0 |          9.0 |     [(834, 0.334), (92, 0.286), (179, 0.27), (83, 0.248), (431, 0.21), (672, 0.152), (389, 0.126), (751, 0.125), (947, 0.089), (550, 0.076)] |\n",
      "|          0.0 |        404.0 |         10.0 | [(1006, 0.461), (380, 0.303), (649, 0.272), (487, 0.222), (221, 0.198), (751, 0.197), (365, 0.193), (528, 0.188), (92, 0.177), (522, 0.144)] |\n",
      "+--------------+--------------+--------------+----------------------------------------------------------------------------------------------------------------------------------------------+\n",
      "==================================================\n",
      "\n",
      "\n",
      "\n",
      "Explanation metrics:\n",
      "{'fidelity': 1.0}\n",
      "==================================================\n",
      "\n",
      "\n",
      "\n"
     ]
    }
   ],
   "source": [
    "def runDemoUsingCachedModelDatasets() -> Tuple[Any, Any, pd.DataFrame]:\n",
    "    \"\"\"\n",
    "    Run demo using cached recommendation and explainer models\n",
    "    :return: Best recommender, explainer and explanations\n",
    "    \"\"\"\n",
    "    als_best_recommender = Helpers.readPickleFromFile(c.ALS_BEST_TRAIN_RECOMMENDER_PATH)\n",
    "    als_best_explainer = Helpers.readPickleFromFile(c.ALS_BEST_EXPLANATION_MODEL_PATH)\n",
    "    best_explanations_df = Helpers.prettifyExplanations(als_best_explainer.explanations_df)\n",
    "    ModelBasedExplainerDemo.reportDemoResults(\n",
    "            als_best_explainer.explanation_metrics,\n",
    "            best_explanations_df,\n",
    "            als_best_recommender.recommendation_metrics,\n",
    "            als_best_recommender.recommendations_df)\n",
    "    return als_best_recommender, als_best_explainer, best_explanations_df\n",
    "\n",
    "als_best_recommender, als_best_explainer, best_explanations_df = runDemoUsingCachedModelDatasets()"
   ]
  },
  {
   "cell_type": "markdown",
   "metadata": {
    "pycharm": {
     "name": "#%% md\n"
    }
   },
   "source": [
    "#### Sample 10 users and the corresponding explanations of their recommendations"
   ]
  },
  {
   "cell_type": "code",
   "execution_count": 3,
   "metadata": {
    "jupyter": {
     "outputs_hidden": false
    },
    "pycharm": {
     "name": "#%%\n"
    }
   },
   "outputs": [
    {
     "data": {
      "text/plain": [
       "[149, 470, 465, 789, 178, 722, 402, 749, 358, 443]"
      ]
     },
     "execution_count": 3,
     "metadata": {},
     "output_type": "execute_result"
    }
   ],
   "source": [
    "def createSampleUserIds(n_users: int=10) -> Tuple[int, List[int]]:\n",
    "    \"\"\"\n",
    "    Creates random sample of users\n",
    "    :param n_users: Number of users\n",
    "    \"\"\"\n",
    "    n_users = 10\n",
    "    random.seed(100)\n",
    "    sample_users = random.sample(set(als_best_recommender.metadata.dataset.userId),n_users)\n",
    "    return n_users, sample_users\n",
    "\n",
    "n_users, sample_users = createSampleUserIds()\n",
    "sample_users"
   ]
  },
  {
   "cell_type": "code",
   "execution_count": 4,
   "metadata": {
    "jupyter": {
     "outputs_hidden": false
    },
    "pycharm": {
     "name": "#%%\n"
    }
   },
   "outputs": [
    {
     "name": "stderr",
     "output_type": "stream",
     "text": [
      "C:\\Users\\ADE\\miniconda3\\envs\\recoxplainer_ade\\lib\\site-packages\\ipykernel_launcher.py:13: SettingWithCopyWarning: \n",
      "A value is trying to be set on a copy of a slice from a DataFrame.\n",
      "Try using .loc[row_indexer,col_indexer] = value instead\n",
      "\n",
      "See the caveats in the documentation: https://pandas.pydata.org/pandas-docs/stable/user_guide/indexing.html#returning-a-view-versus-a-copy\n",
      "  del sys.path[0]\n"
     ]
    },
    {
     "data": {
      "text/html": [
       "<div>\n",
       "<style scoped>\n",
       "    .dataframe tbody tr th:only-of-type {\n",
       "        vertical-align: middle;\n",
       "    }\n",
       "\n",
       "    .dataframe tbody tr th {\n",
       "        vertical-align: top;\n",
       "    }\n",
       "\n",
       "    .dataframe thead th {\n",
       "        text-align: right;\n",
       "    }\n",
       "</style>\n",
       "<table border=\"1\" class=\"dataframe\">\n",
       "  <thead>\n",
       "    <tr style=\"text-align: right;\">\n",
       "      <th></th>\n",
       "      <th>userId</th>\n",
       "      <th>itemId</th>\n",
       "      <th>rank</th>\n",
       "      <th>explanations</th>\n",
       "    </tr>\n",
       "  </thead>\n",
       "  <tbody>\n",
       "    <tr>\n",
       "      <th>299</th>\n",
       "      <td>149.0</td>\n",
       "      <td>329.0</td>\n",
       "      <td>1.0</td>\n",
       "      <td>{'item': [93, 247, 234, 31, 362, 496, 462, 808...</td>\n",
       "    </tr>\n",
       "    <tr>\n",
       "      <th>91</th>\n",
       "      <td>149.0</td>\n",
       "      <td>102.0</td>\n",
       "      <td>2.0</td>\n",
       "      <td>{'item': [256, 462, 399, 488, 138, 592, 94, 49...</td>\n",
       "    </tr>\n",
       "    <tr>\n",
       "      <th>140</th>\n",
       "      <td>149.0</td>\n",
       "      <td>156.0</td>\n",
       "      <td>3.0</td>\n",
       "      <td>{'item': [138, 399, 496, 216, 506, 47, 249, 31...</td>\n",
       "    </tr>\n",
       "    <tr>\n",
       "      <th>199</th>\n",
       "      <td>149.0</td>\n",
       "      <td>217.0</td>\n",
       "      <td>4.0</td>\n",
       "      <td>{'item': [93, 354, 256, 249, 297, 401, 550, 30...</td>\n",
       "    </tr>\n",
       "    <tr>\n",
       "      <th>703</th>\n",
       "      <td>149.0</td>\n",
       "      <td>750.0</td>\n",
       "      <td>5.0</td>\n",
       "      <td>{'item': [258, 234, 137, 311, 75, 592, 365, 48...</td>\n",
       "    </tr>\n",
       "    <tr>\n",
       "      <th>...</th>\n",
       "      <td>...</td>\n",
       "      <td>...</td>\n",
       "      <td>...</td>\n",
       "      <td>...</td>\n",
       "    </tr>\n",
       "    <tr>\n",
       "      <th>47</th>\n",
       "      <td>789.0</td>\n",
       "      <td>53.0</td>\n",
       "      <td>6.0</td>\n",
       "      <td>{'item': [244, 254, 623, 239, 725, 347, 492, 1...</td>\n",
       "    </tr>\n",
       "    <tr>\n",
       "      <th>271</th>\n",
       "      <td>789.0</td>\n",
       "      <td>297.0</td>\n",
       "      <td>7.0</td>\n",
       "      <td>{'item': [239, 216, 1130, 623, 43, 347, 547, 5...</td>\n",
       "    </tr>\n",
       "    <tr>\n",
       "      <th>29</th>\n",
       "      <td>789.0</td>\n",
       "      <td>31.0</td>\n",
       "      <td>8.0</td>\n",
       "      <td>{'item': [216, 347, 200, 571, 725, 191, 43, 24...</td>\n",
       "    </tr>\n",
       "    <tr>\n",
       "      <th>466</th>\n",
       "      <td>789.0</td>\n",
       "      <td>497.0</td>\n",
       "      <td>9.0</td>\n",
       "      <td>{'item': [995, 118, 1130, 139, 65, 561, 60, 62...</td>\n",
       "    </tr>\n",
       "    <tr>\n",
       "      <th>360</th>\n",
       "      <td>789.0</td>\n",
       "      <td>390.0</td>\n",
       "      <td>10.0</td>\n",
       "      <td>{'item': [623, 244, 118, 239, 359, 260, 200, 1...</td>\n",
       "    </tr>\n",
       "  </tbody>\n",
       "</table>\n",
       "<p>100 rows × 4 columns</p>\n",
       "</div>"
      ],
      "text/plain": [
       "     userId  itemId  rank                                       explanations\n",
       "299   149.0   329.0   1.0  {'item': [93, 247, 234, 31, 362, 496, 462, 808...\n",
       "91    149.0   102.0   2.0  {'item': [256, 462, 399, 488, 138, 592, 94, 49...\n",
       "140   149.0   156.0   3.0  {'item': [138, 399, 496, 216, 506, 47, 249, 31...\n",
       "199   149.0   217.0   4.0  {'item': [93, 354, 256, 249, 297, 401, 550, 30...\n",
       "703   149.0   750.0   5.0  {'item': [258, 234, 137, 311, 75, 592, 365, 48...\n",
       "..      ...     ...   ...                                                ...\n",
       "47    789.0    53.0   6.0  {'item': [244, 254, 623, 239, 725, 347, 492, 1...\n",
       "271   789.0   297.0   7.0  {'item': [239, 216, 1130, 623, 43, 347, 547, 5...\n",
       "29    789.0    31.0   8.0  {'item': [216, 347, 200, 571, 725, 191, 43, 24...\n",
       "466   789.0   497.0   9.0  {'item': [995, 118, 1130, 139, 65, 561, 60, 62...\n",
       "360   789.0   390.0  10.0  {'item': [623, 244, 118, 239, 359, 260, 200, 1...\n",
       "\n",
       "[100 rows x 4 columns]"
      ]
     },
     "execution_count": 4,
     "metadata": {},
     "output_type": "execute_result"
    }
   ],
   "source": [
    "def convertTupleListToDict(row: pd.Series):\n",
    "    item, contribution = [], []\n",
    "    for s in row:\n",
    "        item.append(s[0])\n",
    "        contribution.append(s[1])\n",
    "    modified_row = {\n",
    "        \"item\": item,\n",
    "        \"contribution\": contribution\n",
    "    }\n",
    "    return modified_row\n",
    "\n",
    "sample_explanations_df = best_explanations_df[best_explanations_df.userId.isin(sample_users)]\n",
    "sample_explanations_df[\"explanations\"] = sample_explanations_df.explanations.apply(convertTupleListToDict)\n",
    "sample_explanations_df"
   ]
  },
  {
   "cell_type": "markdown",
   "metadata": {
    "pycharm": {
     "name": "#%% md\n"
    }
   },
   "source": [
    "#### Get the content being recommended i.e. Movies"
   ]
  },
  {
   "cell_type": "code",
   "execution_count": 5,
   "metadata": {
    "jupyter": {
     "outputs_hidden": false
    },
    "pycharm": {
     "name": "#%%\n"
    }
   },
   "outputs": [],
   "source": [
    "content_df = pd.read_csv(c2.MOVIELENS_ITEM_PATH, sep='|', encoding = \"ISO-8859-1\", skiprows=0, engine='python', header=None)\n",
    "content_df = content_df.set_index(0)[[1]]\n",
    "content_df.columns = ['movie']"
   ]
  },
  {
   "cell_type": "code",
   "execution_count": 6,
   "metadata": {
    "jupyter": {
     "outputs_hidden": false
    },
    "pycharm": {
     "name": "#%%\n"
    }
   },
   "outputs": [
    {
     "data": {
      "text/html": [
       "<div>\n",
       "<style scoped>\n",
       "    .dataframe tbody tr th:only-of-type {\n",
       "        vertical-align: middle;\n",
       "    }\n",
       "\n",
       "    .dataframe tbody tr th {\n",
       "        vertical-align: top;\n",
       "    }\n",
       "\n",
       "    .dataframe thead th {\n",
       "        text-align: right;\n",
       "    }\n",
       "</style>\n",
       "<table border=\"1\" class=\"dataframe\">\n",
       "  <thead>\n",
       "    <tr style=\"text-align: right;\">\n",
       "      <th></th>\n",
       "      <th>movie</th>\n",
       "    </tr>\n",
       "    <tr>\n",
       "      <th>0</th>\n",
       "      <th></th>\n",
       "    </tr>\n",
       "  </thead>\n",
       "  <tbody>\n",
       "    <tr>\n",
       "      <th>1639</th>\n",
       "      <td>Bitter Sugar (Azucar Amargo) (1996)</td>\n",
       "    </tr>\n",
       "    <tr>\n",
       "      <th>1072</th>\n",
       "      <td>Pyromaniac's Love Story, A (1995)</td>\n",
       "    </tr>\n",
       "    <tr>\n",
       "      <th>586</th>\n",
       "      <td>Terminal Velocity (1994)</td>\n",
       "    </tr>\n",
       "    <tr>\n",
       "      <th>739</th>\n",
       "      <td>Pretty Woman (1990)</td>\n",
       "    </tr>\n",
       "    <tr>\n",
       "      <th>1128</th>\n",
       "      <td>Heidi Fleiss: Hollywood Madam (1995)</td>\n",
       "    </tr>\n",
       "    <tr>\n",
       "      <th>1513</th>\n",
       "      <td>Sprung (1997)</td>\n",
       "    </tr>\n",
       "    <tr>\n",
       "      <th>440</th>\n",
       "      <td>Amityville II: The Possession (1982)</td>\n",
       "    </tr>\n",
       "    <tr>\n",
       "      <th>851</th>\n",
       "      <td>Two or Three Things I Know About Her (1966)</td>\n",
       "    </tr>\n",
       "    <tr>\n",
       "      <th>829</th>\n",
       "      <td>Fled (1996)</td>\n",
       "    </tr>\n",
       "    <tr>\n",
       "      <th>1603</th>\n",
       "      <td>Angela (1995)</td>\n",
       "    </tr>\n",
       "  </tbody>\n",
       "</table>\n",
       "</div>"
      ],
      "text/plain": [
       "                                            movie\n",
       "0                                                \n",
       "1639          Bitter Sugar (Azucar Amargo) (1996)\n",
       "1072            Pyromaniac's Love Story, A (1995)\n",
       "586                      Terminal Velocity (1994)\n",
       "739                           Pretty Woman (1990)\n",
       "1128        Heidi Fleiss: Hollywood Madam (1995) \n",
       "1513                                Sprung (1997)\n",
       "440          Amityville II: The Possession (1982)\n",
       "851   Two or Three Things I Know About Her (1966)\n",
       "829                                   Fled (1996)\n",
       "1603                                Angela (1995)"
      ]
     },
     "execution_count": 6,
     "metadata": {},
     "output_type": "execute_result"
    }
   ],
   "source": [
    "content_df.sample(10)"
   ]
  },
  {
   "cell_type": "markdown",
   "metadata": {
    "pycharm": {
     "name": "#%% md\n"
    }
   },
   "source": [
    "#### Simple visualization UI of explanation"
   ]
  },
  {
   "cell_type": "code",
   "execution_count": 7,
   "metadata": {
    "jupyter": {
     "outputs_hidden": false
    },
    "pycharm": {
     "name": "#%%\n"
    }
   },
   "outputs": [
    {
     "data": {
      "text/html": [
       "\n",
       "        <iframe\n",
       "            width=\"100%\"\n",
       "            height=\"650\"\n",
       "            src=\"http://127.0.0.1:8099/\"\n",
       "            frameborder=\"0\"\n",
       "            allowfullscreen\n",
       "        ></iframe>\n",
       "        "
      ],
      "text/plain": [
       "<IPython.lib.display.IFrame at 0x19e706fe108>"
      ]
     },
     "metadata": {},
     "output_type": "display_data"
    }
   ],
   "source": [
    "def runExplanationVisualizer():\n",
    "    \"\"\"\n",
    "    Runs the Explanation visualization\n",
    "    \"\"\"\n",
    "    app = JupyterDash(__name__)\n",
    "    #app = Dash(__name__)\n",
    "    app.layout = html.Div([\n",
    "        html.P(\"userId:\"),\n",
    "        dcc.Dropdown(\n",
    "            id='userId',\n",
    "            value=sample_users[0],\n",
    "            options=[{'value': x, 'label': x}\n",
    "                     for x in sample_users],\n",
    "            clearable=False\n",
    "        ),\n",
    "        html.P(\"Rank:\"),\n",
    "          dcc.Slider(\n",
    "            id='rank',\n",
    "            min=1,\n",
    "            max=10,\n",
    "            value=1,\n",
    "            step=1,\n",
    "            marks={i:'{}'.format(i) for i in range(1,11)}\n",
    "        ),\n",
    "        dcc.Graph(id=\"pie-chart\"),\n",
    "    ])\n",
    "\n",
    "    @app.callback(\n",
    "        Output(\"pie-chart\", \"figure\"),\n",
    "        [Input(\"userId\", \"value\"),\n",
    "         Input(\"rank\", \"value\")])\n",
    "    def generateChart(userId, rank):\n",
    "        train_dataset = als_best_recommender.train_metadata_clone\n",
    "        explanations_df = sample_explanations_df[(sample_explanations_df['userId'] == userId) & (sample_explanations_df['rank'] == rank)]\n",
    "        df = pd.DataFrame.from_dict(explanations_df.explanations.iloc[0])\n",
    "        df['item'] = list(content_df.loc[train_dataset.getOriginalItemId(df.item)].movie)\n",
    "        title = \"Recommended movie: \" + content_df.loc[int(explanations_df.itemId)].movie\n",
    "        fig = px.pie(df, values='contribution', names='item', title=title)\n",
    "        return fig\n",
    "\n",
    "    app.css.config.serve_locally = True\n",
    "    app.scripts.config.serve_locally = True\n",
    "\n",
    "    # Run app and display result inline in the notebook\n",
    "    app.run_server(mode='inline', debug=True,port=8099)\n",
    "\n",
    "runExplanationVisualizer()"
   ]
  },
  {
   "cell_type": "code",
   "execution_count": null,
   "metadata": {
    "jupyter": {
     "outputs_hidden": false
    },
    "pycharm": {
     "name": "#%%\n"
    }
   },
   "outputs": [],
   "source": []
  },
  {
   "cell_type": "code",
   "execution_count": null,
   "metadata": {
    "jupyter": {
     "outputs_hidden": false
    },
    "pycharm": {
     "name": "#%%\n"
    }
   },
   "outputs": [],
   "source": []
  },
  {
   "cell_type": "code",
   "execution_count": null,
   "metadata": {
    "jupyter": {
     "outputs_hidden": false
    },
    "pycharm": {
     "name": "#%%\n"
    }
   },
   "outputs": [],
   "source": []
  }
 ],
 "metadata": {
  "kernelspec": {
   "display_name": "recoxplainer_ade",
   "language": "python",
   "name": "recoxplainer_ade"
  },
  "language_info": {
   "codemirror_mode": {
    "name": "ipython",
    "version": 3
   },
   "file_extension": ".py",
   "mimetype": "text/x-python",
   "name": "python",
   "nbconvert_exporter": "python",
   "pygments_lexer": "ipython3",
   "version": "3.7.16"
  }
 },
 "nbformat": 4,
 "nbformat_minor": 4
}