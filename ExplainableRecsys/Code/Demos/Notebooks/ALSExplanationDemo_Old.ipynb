{
 "cells": [
  {
   "cell_type": "markdown",
   "metadata": {
    "pycharm": {
     "name": "#%% md\n"
    }
   },
   "source": [
    "# Demo of Alternating Least Square (ALS) RecSys Explanations"
   ]
  },
  {
   "cell_type": "markdown",
   "metadata": {
    "pycharm": {
     "name": "#%% md\n"
    }
   },
   "source": [
    "#### Imports"
   ]
  },
  {
   "cell_type": "code",
   "execution_count": null,
   "metadata": {
    "jupyter": {
     "outputs_hidden": false
    },
    "pycharm": {
     "name": "#%%\n"
    }
   },
   "outputs": [],
   "source": [
    "import pathlib\n",
    "import os, sys\n",
    "import random\n",
    "import pandas as pd\n",
    "from typing import List, Tuple, Dict, Any\n",
    "\n",
    "import plotly.express as px\n",
    "from jupyter_dash import JupyterDash\n",
    "from dash import Dash\n",
    "import dash_core_components as dcc\n",
    "import dash_html_components as html\n",
    "from dash.dependencies import Input, Output\n",
    "\n",
    "root_working_dir = str(pathlib.Path(os.getcwd()).parent.parent.parent)\n",
    "working_dir = pathlib.Path(os.getcwd()).parent.parent\n",
    "os.chdir(working_dir)\n",
    "sys.path.append(root_working_dir)\n",
    "print(f\"Current working directory is: {working_dir}\")\n",
    "\n",
    "from Code.Demos.Models.Src.ALSExplanation import ALSExplainerDemo\n",
    "from Code.Demos.Models.Src.ModelBasedExplanation import ModelBasedExplainerDemo\n",
    "from Code.Utils.Src.Enums import ExplanationType\n",
    "from Code.Utils.Src.Utils import Helpers\n",
    "import Code.Model.Src.Constants as c\n",
    "import Code.DataAccessLayer.Src.Constants as c2\n",
    "\n"
   ]
  },
  {
   "cell_type": "markdown",
   "metadata": {
    "pycharm": {
     "name": "#%% md\n"
    }
   },
   "source": [
    "#### Run demo based on cached recommendations and recommendation models"
   ]
  },
  {
   "cell_type": "code",
   "execution_count": null,
   "metadata": {
    "jupyter": {
     "outputs_hidden": false
    },
    "pycharm": {
     "name": "#%%\n"
    }
   },
   "outputs": [],
   "source": [
    "def runDemoUsingCachedModelDatasets():\n",
    "    \"\"\"\n",
    "    Run demo using cached recommendation and explainer models\n",
    "    \"\"\"\n",
    "    als_best_recommender = Helpers.readPickleFromFile(c.ALS_BEST_TRAIN_RECOMMENDER_PATH)\n",
    "    als_best_explainer = Helpers.readPickleFromFile(c.ALS_BEST_EXPLANATION_MODEL_PATH)\n",
    "    best_explanations_df = Helpers.prettifyExplanations(als_best_explainer.explanations_df)\n",
    "    ModelBasedExplainerDemo.reportDemoResults(\n",
    "            als_best_explainer.explanation_metrics,\n",
    "            best_explanations_df,\n",
    "            als_best_recommender.recommendation_metrics,\n",
    "            als_best_recommender.recommendations_df)\n",
    "    return als_best_recommender, als_best_explainer, best_explanations_df\n",
    "\n",
    "als_best_recommender, als_best_explainer, best_explanations_df = runDemoUsingCachedModelDatasets()"
   ]
  },
  {
   "cell_type": "markdown",
   "metadata": {
    "pycharm": {
     "name": "#%% md\n"
    }
   },
   "source": [
    "#### Sample 10 users and the corresponding explanations of their recommendations"
   ]
  },
  {
   "cell_type": "code",
   "execution_count": null,
   "metadata": {
    "jupyter": {
     "outputs_hidden": false
    },
    "pycharm": {
     "name": "#%%\n"
    }
   },
   "outputs": [],
   "source": [
    "def createSampleUserIds(n_users: int=10) -> Tuple[int, List[int]]:\n",
    "    \"\"\"\n",
    "    Creates random sample of users\n",
    "    :param n_users: Number of users\n",
    "    \"\"\"\n",
    "    n_users = 10\n",
    "    random.seed(100)\n",
    "    sample_users = random.sample(set(als_best_recommender.metadata.dataset.userId),n_users)\n",
    "    return n_users, sample_users\n",
    "\n",
    "n_users, sample_users = createSampleUserIds()\n",
    "sample_users"
   ]
  },
  {
   "cell_type": "code",
   "execution_count": null,
   "metadata": {
    "jupyter": {
     "outputs_hidden": false
    },
    "pycharm": {
     "name": "#%%\n"
    }
   },
   "outputs": [],
   "source": [
    "def convertTupleListToDict(row: pd.Series):\n",
    "    item, contribution = [], []\n",
    "    for s in row:\n",
    "        item.append(s[0])\n",
    "        contribution.append(s[1])\n",
    "    modified_row = {\n",
    "        \"item\": item,\n",
    "        \"contribution\": contribution\n",
    "    }\n",
    "    return modified_row\n",
    "\n",
    "sample_explanations_df = best_explanations_df[best_explanations_df.userId.isin(sample_users)]\n",
    "sample_explanations_df[\"explanations\"] = sample_explanations_df.explanations.apply(convertTupleListToDict)\n",
    "sample_explanations_df"
   ]
  },
  {
   "cell_type": "markdown",
   "metadata": {
    "pycharm": {
     "name": "#%% md\n"
    }
   },
   "source": [
    "#### Get the content being recommended i.e. Movies"
   ]
  },
  {
   "cell_type": "code",
   "execution_count": null,
   "metadata": {
    "jupyter": {
     "outputs_hidden": false
    },
    "pycharm": {
     "name": "#%%\n"
    }
   },
   "outputs": [],
   "source": [
    "content_df = pd.read_csv(c2.MOVIELENS_ITEM_PATH, sep='|', encoding = \"ISO-8859-1\", skiprows=0, engine='python', header=None)\n",
    "content_df = content_df.set_index(0)[[1]]\n",
    "content_df.columns = ['movie']"
   ]
  },
  {
   "cell_type": "code",
   "execution_count": null,
   "metadata": {
    "jupyter": {
     "outputs_hidden": false
    },
    "pycharm": {
     "name": "#%%\n"
    }
   },
   "outputs": [],
   "source": [
    "content_df.sample(10)"
   ]
  },
  {
   "cell_type": "markdown",
   "metadata": {
    "pycharm": {
     "name": "#%% md\n"
    }
   },
   "source": [
    "#### Simple visualization UI of explanation"
   ]
  },
  {
   "cell_type": "code",
   "execution_count": null,
   "metadata": {
    "jupyter": {
     "outputs_hidden": false
    },
    "pycharm": {
     "name": "#%%\n"
    }
   },
   "outputs": [],
   "source": [
    "def runExplanationVisualizer():\n",
    "    \"\"\"\n",
    "    Runs the Explanation visualization\n",
    "    \"\"\"\n",
    "    app = JupyterDash(__name__)\n",
    "    #app = Dash(__name__)\n",
    "    app.layout = html.Div([\n",
    "        html.P(\"userId:\"),\n",
    "        dcc.Dropdown(\n",
    "            id='userId',\n",
    "            value=sample_users[0],\n",
    "            options=[{'value': x, 'label': x}\n",
    "                     for x in sample_users],\n",
    "            clearable=False\n",
    "        ),\n",
    "        html.P(\"Rank:\"),\n",
    "          dcc.Slider(\n",
    "            id='rank',\n",
    "            min=1,\n",
    "            max=10,\n",
    "            value=1,\n",
    "            step=1,\n",
    "            marks={i:'{}'.format(i) for i in range(1,11)}\n",
    "        ),\n",
    "        dcc.Graph(id=\"pie-chart\"),\n",
    "    ])\n",
    "\n",
    "    @app.callback(\n",
    "        Output(\"pie-chart\", \"figure\"),\n",
    "        [Input(\"userId\", \"value\"),\n",
    "         Input(\"rank\", \"value\")])\n",
    "    def generateChart(userId, rank):\n",
    "        train_dataset = als_best_recommender.train_metadata_clone\n",
    "        explanations_df = sample_explanations_df[(sample_explanations_df['userId'] == userId) & (sample_explanations_df['rank'] == rank)]\n",
    "        df = pd.DataFrame.from_dict(explanations_df.explanations.iloc[0])\n",
    "        df['item'] = list(content_df.loc[train_dataset.getOriginalItemId(df.item)].movie)\n",
    "        title = \"Recommended movie: \" + content_df.loc[int(explanations_df.itemId)].movie\n",
    "        fig = px.pie(df, values='contribution', names='item', title=title)\n",
    "        return fig\n",
    "\n",
    "    app.css.config.serve_locally = True\n",
    "    app.scripts.config.serve_locally = True\n",
    "\n",
    "    # Run app and display result inline in the notebook\n",
    "    app.run_server(mode='inline', debug=True,port=8099)\n",
    "\n",
    "runExplanationVisualizer()"
   ]
  },
  {
   "cell_type": "code",
   "execution_count": null,
   "metadata": {
    "jupyter": {
     "outputs_hidden": false
    },
    "pycharm": {
     "name": "#%%\n"
    }
   },
   "outputs": [],
   "source": []
  },
  {
   "cell_type": "code",
   "execution_count": null,
   "metadata": {
    "jupyter": {
     "outputs_hidden": false
    },
    "pycharm": {
     "name": "#%%\n"
    }
   },
   "outputs": [],
   "source": []
  },
  {
   "cell_type": "code",
   "execution_count": null,
   "metadata": {
    "jupyter": {
     "outputs_hidden": false
    },
    "pycharm": {
     "name": "#%%\n"
    }
   },
   "outputs": [],
   "source": []
  }
 ],
 "metadata": {
  "kernelspec": {
   "display_name": "recoxplainer",
   "language": "python",
   "name": "recoxplainer"
  },
  "language_info": {
   "codemirror_mode": {
    "name": "ipython",
    "version": 3
   },
   "file_extension": ".py",
   "mimetype": "text/x-python",
   "name": "python",
   "nbconvert_exporter": "python",
   "pygments_lexer": "ipython3",
   "version": "3.9.1"
  }
 },
 "nbformat": 4,
 "nbformat_minor": 4
}