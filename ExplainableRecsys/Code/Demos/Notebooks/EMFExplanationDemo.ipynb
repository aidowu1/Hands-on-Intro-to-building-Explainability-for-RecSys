{
 "cells": [
  {
   "cell_type": "markdown",
   "metadata": {
    "collapsed": true,
    "pycharm": {
     "name": "#%% md\n"
    }
   },
   "source": [
    "# Demo of Explainable Matrix Factorization (EMF) RecSys Explanations"
   ]
  },
  {
   "cell_type": "markdown",
   "metadata": {
    "pycharm": {
     "name": "#%% md\n"
    }
   },
   "source": [
    "#### Imports"
   ]
  },
  {
   "cell_type": "code",
   "execution_count": 1,
   "metadata": {
    "pycharm": {
     "name": "#%%\n"
    }
   },
   "outputs": [
    {
     "name": "stderr",
     "output_type": "stream",
     "text": [
      "C:\\Users\\ADE\\miniconda3\\envs\\recoxplainer_ade\\lib\\site-packages\\umap\\__init__.py:9: UserWarning: Tensorflow not installed; ParametricUMAP will be unavailable\n",
      "  warn(\"Tensorflow not installed; ParametricUMAP will be unavailable\")\n"
     ]
    },
    {
     "name": "stdout",
     "output_type": "stream",
     "text": [
      "Current working directory is: C:\\Development\\Python\\MyGitHub\\Hands-on-Intro-to-building-Explainability-for-RecSys-(Pydata-2023)\\ExplainableRecsys\\Code\n"
     ]
    }
   ],
   "source": [
    "import random\n",
    "import pandas as pd\n",
    "import umap\n",
    "import seaborn as sns\n",
    "import numpy as np\n",
    "import matplotlib.pyplot as plt\n",
    "import pathlib\n",
    "import os, sys\n",
    "from typing import List, Tuple, Dict, Any\n",
    "\n",
    "import plotly.express as px\n",
    "from jupyter_dash import JupyterDash\n",
    "from dash import Dash\n",
    "import dash_core_components as dcc\n",
    "import dash_html_components as html\n",
    "from dash.dependencies import Input, Output\n",
    "import ipywidgets as widgets\n",
    "\n",
    "root_working_dir = str(pathlib.Path(os.getcwd()).parent.parent.parent)\n",
    "working_dir = pathlib.Path(os.getcwd()).parent.parent\n",
    "os.chdir(working_dir)\n",
    "sys.path.append(root_working_dir)\n",
    "\n",
    "from Code.Demos.Models.Src.EMFExplanation import EMFExplainerDemo\n",
    "from Code.Demos.Models.Src.ModelBasedExplanation import ModelBasedExplainerDemo\n",
    "from Code.Utils.Src.Enums import ExplanationType\n",
    "from Code.Utils.Src.Utils import Helpers\n",
    "import Code.Model.Src.Constants as c\n",
    "import Code.DataAccessLayer.Src.Constants as c2\n",
    "\n",
    "print(f\"Current working directory is: {working_dir}\")"
   ]
  },
  {
   "cell_type": "markdown",
   "metadata": {},
   "source": [
    "#### Run demo based on cached recommendations and explanation models"
   ]
  },
  {
   "cell_type": "code",
   "execution_count": 2,
   "metadata": {
    "pycharm": {
     "name": "#%%\n"
    }
   },
   "outputs": [
    {
     "name": "stdout",
     "output_type": "stream",
     "text": [
      "Sample of generated recommendations:\n",
      "+--------+--------+--------+\n",
      "|  userId|  itemId|   rank |\n",
      "+--------+--------+--------+\n",
      "|    0.0 | 1255.0 |    1.0 |\n",
      "|    0.0 |  569.0 |    2.0 |\n",
      "|    0.0 |  174.0 |    3.0 |\n",
      "|    0.0 |  180.0 |    4.0 |\n",
      "|    0.0 |  200.0 |    5.0 |\n",
      "|    0.0 |   36.0 |    6.0 |\n",
      "|    0.0 |   66.0 |    7.0 |\n",
      "|    0.0 |  277.0 |    8.0 |\n",
      "|    0.0 | 1271.0 |    9.0 |\n",
      "|    0.0 |  130.0 |   10.0 |\n",
      "+--------+--------+--------+\n",
      "==================================================\n",
      "\n",
      "\n",
      "\n",
      "Recommendation metrics:\n",
      "{'hit_ratio': 0.0326, 'ndcg': 0.0473}\n",
      "==================================================\n",
      "\n",
      "\n",
      "\n",
      "Sample of generated explanations:\n",
      "+--------------+--------------+--------------+--------------------+--------------+\n",
      "|     userId   |     itemId   |      rank    |     explanations   |      expl    |\n",
      "+--------------+--------------+--------------+--------------------+--------------+\n",
      "|          0.0 |       1255.0 |          1.0 |                 {} |          0.0 |\n",
      "|          0.0 |        569.0 |          2.0 |             {5: 1} |       0.1786 |\n",
      "|          0.0 |        174.0 |          3.0 |             {5: 1} |          0.0 |\n",
      "|          0.0 |        180.0 |          4.0 | {3: 1, 4: 2, 5: 1} |       0.4324 |\n",
      "|          0.0 |        200.0 |          5.0 |             {5: 3} |          0.3 |\n",
      "|          0.0 |         36.0 |          6.0 |             {5: 5} |       0.4167 |\n",
      "|          0.0 |         66.0 |          7.0 |       {4: 1, 5: 2} |       0.1957 |\n",
      "|          0.0 |        277.0 |          8.0 |       {4: 1, 5: 1} |       0.2045 |\n",
      "|          0.0 |       1271.0 |          9.0 |                 {} |          0.0 |\n",
      "|          0.0 |        130.0 |         10.0 |             {4: 1} |       0.0816 |\n",
      "+--------------+--------------+--------------+--------------------+--------------+\n",
      "==================================================\n",
      "\n",
      "\n",
      "\n",
      "Explanation metrics:\n",
      "{'fidelity': 0.4984, 'mean-explainable-precision': 0.4785}\n",
      "==================================================\n",
      "\n",
      "\n",
      "\n"
     ]
    }
   ],
   "source": [
    "def runDemoUsingCachedModelDatasets() -> Tuple[Any, Any, pd.DataFrame]:\n",
    "    \"\"\"\n",
    "    Run demo using cached recommendation and explainer models\n",
    "    :return: Best recommender, explainer and explanations\n",
    "    \"\"\"\n",
    "    emf_best_recommender = Helpers.readPickleFromFile(c.EMF_BEST_TRAIN_RECOMMENDER_PATH)\n",
    "    emf_best_explainer = Helpers.readPickleFromFile(c.EMF_BEST_EXPLANATION_MODEL_PATH)\n",
    "    emf_best_explanations_df = emf_best_explainer.explanations_df\n",
    "    ModelBasedExplainerDemo.reportDemoResults(\n",
    "            emf_best_explainer.explanation_metrics,\n",
    "            emf_best_explainer.explanations_df,\n",
    "            emf_best_recommender.recommendation_metrics,\n",
    "            emf_best_recommender.recommendations_df)\n",
    "    return emf_best_recommender, emf_best_explainer, emf_best_explanations_df\n",
    "\n",
    "emf_best_recommender, emf_best_explainer, emf_best_explanations_df = runDemoUsingCachedModelDatasets()"
   ]
  },
  {
   "cell_type": "markdown",
   "metadata": {
    "pycharm": {
     "name": "#%% md\n"
    }
   },
   "source": [
    "#### Sample 10 users and the corresponding explanations of their recommendations"
   ]
  },
  {
   "cell_type": "code",
   "execution_count": 3,
   "metadata": {
    "pycharm": {
     "name": "#%%\n"
    }
   },
   "outputs": [
    {
     "data": {
      "text/plain": [
       "[149, 470, 465, 789, 178, 722, 402, 749, 358, 443]"
      ]
     },
     "execution_count": 3,
     "metadata": {},
     "output_type": "execute_result"
    }
   ],
   "source": [
    "def createSampleUserIds(n_users: int=10) -> Tuple[int, List[int]]:\n",
    "    \"\"\"\n",
    "    Creates random sample of users\n",
    "    :param n_users: Number of users\n",
    "    :return: Sampled users\n",
    "    \"\"\"\n",
    "    n_users = 10\n",
    "    random.seed(100)\n",
    "    sample_users = random.sample(set(emf_best_recommender.metadata.dataset.userId),n_users)\n",
    "    return n_users, sample_users\n",
    "\n",
    "n_users, sample_users = createSampleUserIds()\n",
    "sample_users"
   ]
  },
  {
   "cell_type": "markdown",
   "metadata": {
    "pycharm": {
     "name": "#%% md\n"
    }
   },
   "source": [
    "#### Extract user and item latent matrix embeddings"
   ]
  },
  {
   "cell_type": "code",
   "execution_count": 4,
   "metadata": {
    "pycharm": {
     "name": "#%%\n"
    }
   },
   "outputs": [],
   "source": [
    "def getUserAndItemEmbeddings() -> Tuple[np.ndarray, np.ndarray]:\n",
    "    \"\"\"\n",
    "    Gets the user/item embeddings\n",
    "    :return: User and item embeddings\n",
    "    \"\"\"\n",
    "    item_embeddings = emf_best_recommender.model.item_embedding()\n",
    "    user_embeddings = emf_best_recommender.model.user_embedding()\n",
    "    return item_embeddings, user_embeddings\n",
    "\n",
    "item_embeddings, user_embeddings = getUserAndItemEmbeddings()"
   ]
  },
  {
   "cell_type": "code",
   "execution_count": 5,
   "metadata": {
    "pycharm": {
     "name": "#%%\n"
    }
   },
   "outputs": [
    {
     "data": {
      "text/plain": [
       "array([[0.28880102, 0.27965317, 0.28332145, 0.31038678, 0.25747679],\n",
       "       [0.24594684, 0.31372757, 0.28079141, 0.36052146, 0.28872038],\n",
       "       [0.0503809 , 0.09121301, 0.06787067, 0.09281201, 0.08766888],\n",
       "       [0.19133009, 0.2040272 , 0.19122277, 0.17295551, 0.19297063],\n",
       "       [0.33383508, 0.24262068, 0.25434719, 0.34200586, 0.27527593]])"
      ]
     },
     "execution_count": 5,
     "metadata": {},
     "output_type": "execute_result"
    }
   ],
   "source": [
    "item_embeddings[:5,:5]"
   ]
  },
  {
   "cell_type": "code",
   "execution_count": 6,
   "metadata": {
    "pycharm": {
     "name": "#%%\n"
    }
   },
   "outputs": [
    {
     "data": {
      "text/plain": [
       "array([[0.19558857, 0.2484944 , 0.19516628, 0.16640047, 0.21407196],\n",
       "       [0.11547596, 0.25366705, 0.2036018 , 0.06258813, 0.23222268],\n",
       "       [0.34112671, 0.25342754, 0.3532337 , 0.26305076, 0.2883578 ],\n",
       "       [0.37611507, 0.17981696, 0.2360513 , 0.30416478, 0.2420981 ],\n",
       "       [0.12642996, 0.18202362, 0.19503056, 0.1562379 , 0.20768361]])"
      ]
     },
     "execution_count": 6,
     "metadata": {},
     "output_type": "execute_result"
    }
   ],
   "source": [
    "user_embeddings[:5,:5]"
   ]
  },
  {
   "cell_type": "markdown",
   "metadata": {
    "pycharm": {
     "name": "#%% md\n"
    }
   },
   "source": [
    "#### Get explainability matrix"
   ]
  },
  {
   "cell_type": "code",
   "execution_count": 7,
   "metadata": {
    "pycharm": {
     "name": "#%%\n"
    }
   },
   "outputs": [
    {
     "data": {
      "text/plain": [
       "array([[0.21621622, 0.26086957, 0.        , 0.2       , 0.        ],\n",
       "       [0.        , 0.2826087 , 0.        , 0.36666667, 0.25806452],\n",
       "       [0.        , 0.15217391, 0.        , 0.13333333, 0.        ],\n",
       "       [0.        , 0.2173913 , 0.        , 0.6       , 0.        ],\n",
       "       [0.        , 0.        , 0.        , 0.        , 0.        ]])"
      ]
     },
     "execution_count": 7,
     "metadata": {},
     "output_type": "execute_result"
    }
   ],
   "source": [
    "def getExplainabilityMatrix() -> np.ndarray:\n",
    "    \"\"\"\n",
    "    Gets the explainability matrix\n",
    "    :return: Explinability matrix\n",
    "    \"\"\"\n",
    "    return emf_best_recommender.model.explainability_matrix\n",
    "\n",
    "explainability_matrix = getExplainabilityMatrix()\n",
    "explainability_matrix[:5,:5]\n"
   ]
  },
  {
   "cell_type": "markdown",
   "metadata": {
    "pycharm": {
     "name": "#%% md\n"
    }
   },
   "source": [
    "#### Get the explanations for sample users"
   ]
  },
  {
   "cell_type": "code",
   "execution_count": 8,
   "metadata": {
    "pycharm": {
     "name": "#%%\n"
    }
   },
   "outputs": [
    {
     "data": {
      "text/html": [
       "<div>\n",
       "<style scoped>\n",
       "    .dataframe tbody tr th:only-of-type {\n",
       "        vertical-align: middle;\n",
       "    }\n",
       "\n",
       "    .dataframe tbody tr th {\n",
       "        vertical-align: top;\n",
       "    }\n",
       "\n",
       "    .dataframe thead th {\n",
       "        text-align: right;\n",
       "    }\n",
       "</style>\n",
       "<table border=\"1\" class=\"dataframe\">\n",
       "  <thead>\n",
       "    <tr style=\"text-align: right;\">\n",
       "      <th></th>\n",
       "      <th>userId</th>\n",
       "      <th>itemId</th>\n",
       "      <th>rank</th>\n",
       "      <th>explanations</th>\n",
       "      <th>expl</th>\n",
       "    </tr>\n",
       "  </thead>\n",
       "  <tbody>\n",
       "    <tr>\n",
       "      <th>101</th>\n",
       "      <td>358.0</td>\n",
       "      <td>118.0</td>\n",
       "      <td>8.0</td>\n",
       "      <td>{3: 1, 4: 1, 5: 3}</td>\n",
       "      <td>0.4490</td>\n",
       "    </tr>\n",
       "    <tr>\n",
       "      <th>220</th>\n",
       "      <td>149.0</td>\n",
       "      <td>240.0</td>\n",
       "      <td>9.0</td>\n",
       "      <td>{4: 2, 5: 1}</td>\n",
       "      <td>0.2600</td>\n",
       "    </tr>\n",
       "    <tr>\n",
       "      <th>217</th>\n",
       "      <td>465.0</td>\n",
       "      <td>254.0</td>\n",
       "      <td>8.0</td>\n",
       "      <td>{3: 1}</td>\n",
       "      <td>0.0625</td>\n",
       "    </tr>\n",
       "    <tr>\n",
       "      <th>330</th>\n",
       "      <td>722.0</td>\n",
       "      <td>347.0</td>\n",
       "      <td>7.0</td>\n",
       "      <td>{}</td>\n",
       "      <td>0.0000</td>\n",
       "    </tr>\n",
       "    <tr>\n",
       "      <th>62</th>\n",
       "      <td>443.0</td>\n",
       "      <td>66.0</td>\n",
       "      <td>7.0</td>\n",
       "      <td>{}</td>\n",
       "      <td>0.0000</td>\n",
       "    </tr>\n",
       "  </tbody>\n",
       "</table>\n",
       "</div>"
      ],
      "text/plain": [
       "     userId  itemId  rank        explanations    expl\n",
       "101   358.0   118.0   8.0  {3: 1, 4: 1, 5: 3}  0.4490\n",
       "220   149.0   240.0   9.0        {4: 2, 5: 1}  0.2600\n",
       "217   465.0   254.0   8.0              {3: 1}  0.0625\n",
       "330   722.0   347.0   7.0                  {}  0.0000\n",
       "62    443.0    66.0   7.0                  {}  0.0000"
      ]
     },
     "execution_count": 8,
     "metadata": {},
     "output_type": "execute_result"
    }
   ],
   "source": [
    "def convertTupleListToDict(row: pd.Series):\n",
    "    item, contribution = [], []\n",
    "    for s in row:\n",
    "        item.append(s[0])\n",
    "        contribution.append(s[1])\n",
    "    modified_row = {\n",
    "        \"item\": item,\n",
    "        \"contribution\": contribution\n",
    "    }\n",
    "    return modified_row\n",
    "\n",
    "sample_explanations_df = emf_best_explanations_df[emf_best_explanations_df.userId.isin(sample_users)]\n",
    "sample_explanations_df.sample(5)"
   ]
  },
  {
   "cell_type": "markdown",
   "metadata": {
    "pycharm": {
     "name": "#%% md\n"
    }
   },
   "source": [
    "#### Reduce dimensionality of embeddings to 2-D"
   ]
  },
  {
   "cell_type": "code",
   "execution_count": 9,
   "metadata": {
    "pycharm": {
     "name": "#%%\n"
    }
   },
   "outputs": [],
   "source": [
    "def reduceEmbeddingDimension() -> Tuple[np.ndarray, np.ndarray]:\n",
    "    \"\"\"\n",
    "    Reduces the dimensionality of the user/item embeddings\n",
    "    :return: Reduced user/item embedding\n",
    "    \"\"\"\n",
    "    dim_reduce_item_embeddings = umap.UMAP().fit_transform(item_embeddings)\n",
    "    dim_reduce_user_embeddings = umap.UMAP().fit_transform(user_embeddings)\n",
    "    return dim_reduce_item_embeddings, dim_reduce_user_embeddings\n",
    "\n",
    "dim_reduce_item_embeddings, dim_reduce_user_embeddings = reduceEmbeddingDimension()"
   ]
  },
  {
   "cell_type": "markdown",
   "metadata": {},
   "source": [
    "#### Get the content being recommended i.e. Movies"
   ]
  },
  {
   "cell_type": "code",
   "execution_count": 12,
   "metadata": {},
   "outputs": [
    {
     "data": {
      "text/html": [
       "<div>\n",
       "<style scoped>\n",
       "    .dataframe tbody tr th:only-of-type {\n",
       "        vertical-align: middle;\n",
       "    }\n",
       "\n",
       "    .dataframe tbody tr th {\n",
       "        vertical-align: top;\n",
       "    }\n",
       "\n",
       "    .dataframe thead th {\n",
       "        text-align: right;\n",
       "    }\n",
       "</style>\n",
       "<table border=\"1\" class=\"dataframe\">\n",
       "  <thead>\n",
       "    <tr style=\"text-align: right;\">\n",
       "      <th></th>\n",
       "      <th>movie</th>\n",
       "    </tr>\n",
       "    <tr>\n",
       "      <th>0</th>\n",
       "      <th></th>\n",
       "    </tr>\n",
       "  </thead>\n",
       "  <tbody>\n",
       "    <tr>\n",
       "      <th>674</th>\n",
       "      <td>Cat People (1982)</td>\n",
       "    </tr>\n",
       "    <tr>\n",
       "      <th>458</th>\n",
       "      <td>Nixon (1995)</td>\n",
       "    </tr>\n",
       "    <tr>\n",
       "      <th>1235</th>\n",
       "      <td>Big Bang Theory, The (1994)</td>\n",
       "    </tr>\n",
       "    <tr>\n",
       "      <th>1381</th>\n",
       "      <td>Losing Chase (1996)</td>\n",
       "    </tr>\n",
       "    <tr>\n",
       "      <th>1063</th>\n",
       "      <td>Little Princess, A (1995)</td>\n",
       "    </tr>\n",
       "    <tr>\n",
       "      <th>896</th>\n",
       "      <td>Sweet Hereafter, The (1997)</td>\n",
       "    </tr>\n",
       "    <tr>\n",
       "      <th>1352</th>\n",
       "      <td>Shadow of Angels (Schatten der Engel) (1976)</td>\n",
       "    </tr>\n",
       "    <tr>\n",
       "      <th>1426</th>\n",
       "      <td>Grace of My Heart (1996)</td>\n",
       "    </tr>\n",
       "    <tr>\n",
       "      <th>1472</th>\n",
       "      <td>Visitors, The (Visiteurs, Les) (1993)</td>\n",
       "    </tr>\n",
       "    <tr>\n",
       "      <th>1055</th>\n",
       "      <td>Simple Twist of Fate, A (1994)</td>\n",
       "    </tr>\n",
       "  </tbody>\n",
       "</table>\n",
       "</div>"
      ],
      "text/plain": [
       "                                             movie\n",
       "0                                                 \n",
       "674                              Cat People (1982)\n",
       "458                                   Nixon (1995)\n",
       "1235                   Big Bang Theory, The (1994)\n",
       "1381                           Losing Chase (1996)\n",
       "1063                     Little Princess, A (1995)\n",
       "896                    Sweet Hereafter, The (1997)\n",
       "1352  Shadow of Angels (Schatten der Engel) (1976)\n",
       "1426                      Grace of My Heart (1996)\n",
       "1472         Visitors, The (Visiteurs, Les) (1993)\n",
       "1055                Simple Twist of Fate, A (1994)"
      ]
     },
     "execution_count": 12,
     "metadata": {},
     "output_type": "execute_result"
    }
   ],
   "source": [
    "content_df = pd.read_csv(c2.MOVIELENS_ITEM_PATH, sep='|', encoding = \"ISO-8859-1\", skiprows=0, engine='python', header=None)\n",
    "content_df = content_df.set_index(0)[[1]]\n",
    "content_df.columns = ['movie']\n",
    "content_df.sample(10)"
   ]
  },
  {
   "cell_type": "markdown",
   "metadata": {
    "pycharm": {
     "name": "#%% md\n"
    }
   },
   "source": [
    "#### Simple visualization UI of explanation"
   ]
  },
  {
   "cell_type": "code",
   "execution_count": 16,
   "metadata": {
    "pycharm": {
     "name": "#%%\n"
    }
   },
   "outputs": [
    {
     "data": {
      "application/vnd.jupyter.widget-view+json": {
       "model_id": "053cd174b7804ac09aff28a8c1cc5b39",
       "version_major": 2,
       "version_minor": 0
      },
      "text/plain": [
       "interactive(children=(Dropdown(description='User', options=(149, 470, 465, 789, 178, 722, 402, 749, 358, 443),…"
      ]
     },
     "metadata": {},
     "output_type": "display_data"
    }
   ],
   "source": [
    "def plotModelLatentFactors(user_id: int, metadata: Any):\n",
    "    \"\"\"\n",
    "    Plots the model latent factors\n",
    "    :param user_id: Sampled user ID\n",
    "    :param metadata: Movielens metadata\n",
    "    \"\"\"\n",
    "    rated_items = metadata.dataset[metadata.dataset.userId == user_id].itemId\n",
    "    \n",
    "    item_emb_for_user_id_df = pd.DataFrame.from_dict({\n",
    "            'x': dim_reduce_item_embeddings[:,0],\n",
    "            'y': dim_reduce_item_embeddings[:,1],\n",
    "            'expl': explainability_matrix[user_id, :]})\n",
    "    item_emb_for_user_id_df = item_emb_for_user_id_df.sort_values(by=['expl'])\n",
    "    \n",
    "    sns.scatterplot(data=item_emb_for_user_id_df, x=\"x\", y=\"y\", hue=\"expl\")\n",
    "    \n",
    "    plt.scatter(dim_reduce_item_embeddings[rated_items,0], \n",
    "            dim_reduce_item_embeddings[rated_items,1], \n",
    "            marker='o', c='#c3e0f4')\n",
    "\n",
    "    plt.scatter(user_embeddings[user_id,0], \n",
    "            user_embeddings[user_id,1], \n",
    "            marker='X', s=100, c='#419ede')\n",
    "    plt.title(f\"Model Latent Factor Visualization for user ID {user_id}\")\n",
    "    plt.show()\n",
    "\n",
    "def selectMoviesPerUser(user_id):\n",
    "    train_dataset = emf_best_recommender.train_metadata_clone\n",
    "    filter_1 = sample_explanations_df.userId == user_id\n",
    "    explanations_per_user = sample_explanations_df[filter_1]\n",
    "    recommended_item_ids = explanations_per_user.itemId.astype('int').unique().tolist()\n",
    "    if recommended_item_ids:\n",
    "        #original_item_ids = train_dataset.getOriginalItemId(recommended_item_ids)\n",
    "        movies = content_df.loc[recommended_item_ids].movie.tolist()\n",
    "        movie_with_id = [f\"{recommended_item_ids[i]} | {movies[i]}\" for i in range(len(recommended_item_ids))]\n",
    "        return movie_with_id\n",
    "\n",
    "dropdown_item = widgets.Dropdown(description=\"Movie Items\",\n",
    "                 layout={'width': 'max-content'})\n",
    "\n",
    "\n",
    "    \n",
    "def onSelectUser(User: int):\n",
    "    \"\"\"\n",
    "    Callback event for when a user is selected\n",
    "    :param user_id: User ID\n",
    "    \"\"\"\n",
    "    recommended_items = selectMoviesPerUser(user_id=User)\n",
    "    dropdown_item.options = recommended_items\n",
    "    display(dropdown_item)\n",
    "    plotModelLatentFactors(User, emf_best_recommender.metadata)\n",
    "    \n",
    "\n",
    "    \n",
    "widgets.interact(onSelectUser, User=sample_users);"
   ]
  },
  {
   "cell_type": "code",
   "execution_count": null,
   "metadata": {
    "pycharm": {
     "name": "#%%\n"
    }
   },
   "outputs": [],
   "source": []
  },
  {
   "cell_type": "code",
   "execution_count": 13,
   "metadata": {},
   "outputs": [
    {
     "data": {
      "text/plain": [
       "['1255 | Broken English (1996)',\n",
       " '174 | Raiders of the Lost Ark (1981)',\n",
       " '180 | Apocalypse Now (1979)',\n",
       " '260 | Event Horizon (1997)',\n",
       " '66 | While You Were Sleeping (1995)',\n",
       " '5 | Copycat (1995)',\n",
       " '240 | Beavis and Butt-head Do America (1996)',\n",
       " '118 | Twister (1996)',\n",
       " '254 | Batman & Robin (1997)',\n",
       " '200 | Shining, The (1980)']"
      ]
     },
     "execution_count": 13,
     "metadata": {},
     "output_type": "execute_result"
    }
   ],
   "source": [
    "def selectMoviesPerUser(user_id):\n",
    "    train_dataset = emf_best_recommender.train_metadata_clone\n",
    "    filter_1 = sample_explanations_df.userId == user_id\n",
    "    explanations_per_user = sample_explanations_df[filter_1]\n",
    "    recommended_item_ids = explanations_per_user.itemId.astype('int').unique().tolist()\n",
    "    if recommended_item_ids:\n",
    "        #original_item_ids = train_dataset.getOriginalItemId(recommended_item_ids)\n",
    "        movies = content_df.loc[recommended_item_ids].movie.tolist()\n",
    "        movie_with_id = [f\"{recommended_item_ids[i]} | {movies[i]}\" for i in range(len(recommended_item_ids))]\n",
    "        return movie_with_id\n",
    "    \n",
    "selectMoviesPerUser(user_id=358)"
   ]
  },
  {
   "cell_type": "code",
   "execution_count": null,
   "metadata": {},
   "outputs": [],
   "source": []
  }
 ],
 "metadata": {
  "kernelspec": {
   "display_name": "recoxplainer_ade",
   "language": "python",
   "name": "recoxplainer_ade"
  },
  "language_info": {
   "codemirror_mode": {
    "name": "ipython",
    "version": 3
   },
   "file_extension": ".py",
   "mimetype": "text/x-python",
   "name": "python",
   "nbconvert_exporter": "python",
   "pygments_lexer": "ipython3",
   "version": "3.7.16"
  }
 },
 "nbformat": 4,
 "nbformat_minor": 1
}
